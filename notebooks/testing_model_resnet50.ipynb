{
 "cells": [
  {
   "cell_type": "code",
   "execution_count": 8,
   "metadata": {},
   "outputs": [
    {
     "name": "stdout",
     "output_type": "stream",
     "text": [
      "108/108 [==============================] - 23s 197ms/step - loss: 3.3005 - accuracy: 0.1395\n",
      "Test Loss: 3.300485610961914\n",
      "Test Accuracy: 0.13946759700775146\n"
     ]
    }
   ],
   "source": [
    "from keras.models import load_model\n",
    "from keras.models import Model\n",
    "from keras.layers import Dense\n",
    "\n",
    "# Load the model\n",
    "model_path = 'D:\\\\CADT\\\\CapstoneProjectI\\\\ml__model\\\\models\\\\Resnet50Epoch100.keras'\n",
    "model = load_model(model_path)\n",
    "\n",
    "# Ensure the number of classes in the model matches the test data\n",
    "if model.output_shape[-1] != num_classes_test:\n",
    "    # Modify the model to have the same number of output classes as the test data\n",
    "    x = model.layers[-2].output\n",
    "    new_output = Dense(num_classes_test, activation='softmax', name='new_dense')(x)\n",
    "    model = Model(inputs=model.input, outputs=new_output)\n",
    "\n",
    "# Compile the model\n",
    "model.compile(optimizer='adam', loss='categorical_crossentropy', metrics=['accuracy'])\n",
    "\n",
    "# Evaluate the model using the test data generator\n",
    "test_loss, test_accuracy = model.evaluate(test_generator, steps=test_generator.samples // BATCH_SIZE)\n",
    "\n",
    "print(f'Test Loss: {test_loss}')\n",
    "print(f'Test Accuracy: {test_accuracy}')"
   ]
  },
  {
   "cell_type": "code",
   "execution_count": null,
   "metadata": {},
   "outputs": [],
   "source": []
  }
 ],
 "metadata": {
  "kernelspec": {
   "display_name": "py310",
   "language": "python",
   "name": "python3"
  },
  "language_info": {
   "codemirror_mode": {
    "name": "ipython",
    "version": 3
   },
   "file_extension": ".py",
   "mimetype": "text/x-python",
   "name": "python",
   "nbconvert_exporter": "python",
   "pygments_lexer": "ipython3",
   "version": "3.10.13"
  }
 },
 "nbformat": 4,
 "nbformat_minor": 2
}
