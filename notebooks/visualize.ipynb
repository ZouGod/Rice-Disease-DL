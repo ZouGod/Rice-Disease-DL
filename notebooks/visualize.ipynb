{
 "cells": [
  {
   "cell_type": "markdown",
   "metadata": {},
   "source": [
    "# **Resnet-50 10Epochs**"
   ]
  },
  {
   "cell_type": "code",
   "execution_count": null,
   "metadata": {},
   "outputs": [],
   "source": [
    "import numpy as np\n",
    "import pandas as pd\n",
    "import matplotlib.pyplot as plt\n",
    "import seaborn as sns\n",
    "from sklearn.metrics import confusion_matrix, ConfusionMatrixDisplay, classification_report\n",
    "from tensorflow.keras.models import load_model\n",
    "from tensorflow.keras.preprocessing.image import ImageDataGenerator\n",
    "import numpy as np\n",
    "import pandas as pd\n",
    "import matplotlib.pyplot as plt\n",
    "from keras.applications import ResNet50, DenseNet121, MobileNet, InceptionV3\n",
    "from keras.applications import Xception \n",
    "from keras.layers import Dense, Flatten, Dropout\n",
    "from keras.preprocessing.image import ImageDataGenerator\n",
    "from keras.optimizers import Adam\n",
    "import scipy\n",
    "import os\n"
   ]
  },
  {
   "cell_type": "code",
   "execution_count": null,
   "metadata": {},
   "outputs": [],
   "source": [
    "\n",
    "\n",
    "# Load your saved model\n",
    "model_path = 'D:\\CADT\\CapstoneProjectI\\ml__model\\models\\efficientnetb0.h5'  # Update with your model's path\n",
    "model = load_model(model_path)\n",
    "\n",
    "# Load the test data\n",
    "test_dir = r'D:\\CADT\\CapstoneProjectI\\ml__model\\data\\splited_data\\test'\n",
    "test_datagen = ImageDataGenerator(rescale=1./255)\n",
    "test_ds = test_datagen.flow_from_directory(\n",
    "    test_dir,\n",
    "    target_size=(456, 456),  # Update to match EfficientNetB5 input size\n",
    "    batch_size=32,\n",
    "    class_mode='categorical',\n",
    "    shuffle=False  # Important for correct label ordering\n",
    ")\n",
    "\n",
    "# Get true labels from the 'test_ds' directory iterator\n",
    "true_labels = test_ds.classes  # True labels\n",
    "\n",
    "# Predict on the test dataset\n",
    "pred_probs = model.predict(test_ds)\n",
    "pred_labels = np.argmax(pred_probs, axis=1)  # Convert probabilities to class labels\n",
    "\n",
    "# Compute confusion matrix\n",
    "conf_matrix = confusion_matrix(true_labels, pred_labels)\n",
    "\n",
    "# Display the confusion matrix\n",
    "class_labels = list(test_ds.class_indices.keys())  # Get class labels from the generator\n",
    "disp = ConfusionMatrixDisplay(confusion_matrix=conf_matrix, display_labels=class_labels)\n",
    "\n",
    "# Plot the confusion matrix\n",
    "plt.figure(figsize=(10, 8))\n",
    "disp.plot(cmap=plt.cm.Blues)\n",
    "plt.xticks(rotation=90)\n",
    "plt.title('Confusion Matrix', fontsize=16)\n",
    "plt.show()\n",
    "\n",
    "# Generate a classification report\n",
    "report = classification_report(true_labels, pred_labels, target_names=class_labels, output_dict=True)\n",
    "\n",
    "# Convert the report to a DataFrame for better visualization\n",
    "report_df = pd.DataFrame(report).transpose()\n",
    "\n",
    "# Plot the heatmap\n",
    "plt.figure(figsize=(10, 5))\n",
    "sns.heatmap(report_df.iloc[:-1, :-1], annot=True, cmap=plt.cm.Reds, fmt=\".2f\", cbar=False)\n",
    "plt.title('Classification Report Heatmap', fontsize=16)\n",
    "plt.xlabel('Metrics', fontsize=14)\n",
    "plt.ylabel('Classes', fontsize=14)\n",
    "plt.show()\n",
    "\n",
    "# Optional: Visualize some sample predictions\n",
    "import random\n",
    "sample_indices = random.sample(range(len(test_ds)), 5)  # Select 5 random sample indices\n",
    "sample_images, sample_labels = next(test_ds)  # Get a batch of images and labels\n",
    "\n",
    "plt.figure(figsize=(15, 5))\n",
    "for i, idx in enumerate(sample_indices):\n",
    "    plt.subplot(1, 5, i + 1)\n",
    "    plt.imshow(sample_images[idx])\n",
    "    plt.title(f'True: {class_labels[sample_labels[idx].argmax()]} \\n Pred: {class_labels[pred_labels[idx]]}')\n",
    "    plt.axis('off')\n",
    "plt.show()"
   ]
  }
 ],
 "metadata": {
  "kernelspec": {
   "display_name": "py310",
   "language": "python",
   "name": "python3"
  },
  "language_info": {
   "codemirror_mode": {
    "name": "ipython",
    "version": 3
   },
   "file_extension": ".py",
   "mimetype": "text/x-python",
   "name": "python",
   "nbconvert_exporter": "python",
   "pygments_lexer": "ipython3",
   "version": "3.10.13"
  }
 },
 "nbformat": 4,
 "nbformat_minor": 2
}
